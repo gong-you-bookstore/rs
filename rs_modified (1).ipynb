{
  "nbformat": 4,
  "nbformat_minor": 0,
  "metadata": {
    "colab": {
      "provenance": []
    },
    "kernelspec": {
      "name": "python3",
      "display_name": "Python 3"
    },
    "language_info": {
      "name": "python"
    },
    "accelerator": "GPU",
    "gpuClass": "standard"
  },
  "cells": [
    {
      "cell_type": "markdown",
      "source": [
        "# 1. Faiss-gpu 설치"
      ],
      "metadata": {
        "id": "q1GIUP0B90_s"
      }
    },
    {
      "cell_type": "code",
      "source": [
        "pip install faiss-gpu"
      ],
      "metadata": {
        "colab": {
          "base_uri": "https://localhost:8080/"
        },
        "id": "Ph0n_oNpqVZ6",
        "outputId": "ac511d95-67a7-4a33-8578-f7d93712f028"
      },
      "execution_count": null,
      "outputs": [
        {
          "output_type": "stream",
          "name": "stdout",
          "text": [
            "Looking in indexes: https://pypi.org/simple, https://us-python.pkg.dev/colab-wheels/public/simple/\n",
            "Collecting faiss-gpu\n",
            "  Downloading faiss_gpu-1.7.2-cp37-cp37m-manylinux_2_17_x86_64.manylinux2014_x86_64.whl (85.5 MB)\n",
            "\u001b[K     |████████████████████████████████| 85.5 MB 87 kB/s \n",
            "\u001b[?25hInstalling collected packages: faiss-gpu\n",
            "Successfully installed faiss-gpu-1.7.2\n"
          ]
        }
      ]
    },
    {
      "cell_type": "markdown",
      "source": [
        "# 2. 데이터 프로세싱을 위한 준비"
      ],
      "metadata": {
        "id": "YkfAkEVg99cE"
      }
    },
    {
      "cell_type": "code",
      "source": [
        "from ast import literal_eval\n",
        "import pandas as pd\n",
        "import numpy as np\n",
        "import warnings\n",
        "warnings.filterwarnings(action='ignore')\n",
        "books = pd.read_csv('/content/drive/MyDrive/nlbooks.csv', encoding='utf-8')\n",
        "books = books.replace({np.nan: 'none'})\n",
        "\n",
        "books_df=books[['title','description']]\n",
        "\n",
        "#books_df[['description']=='none']=None\n",
        "books_df_nax=books_df.dropna(axis='rows')\n",
        "\n",
        "\n",
        "from sklearn.metrics.pairwise import cosine_similarity\n",
        "from sklearn.feature_extraction.text import CountVectorizer\n",
        "from sklearn.feature_extraction.text import TfidfVectorizer\n",
        "\n",
        "\n",
        "cnt_vect = CountVectorizer(min_df=0, ngram_range=(1,2))\n",
        "tfidf = TfidfVectorizer(stop_words='english')\n",
        "# fit_transform안에 데이터프레임형태로 넣어주면 안됨. 하나의 변수씩만 넣어주자!\n",
        "title_vect1 = cnt_vect.fit_transform(books_df_nax['title'])\n",
        "title_vect2 = tfidf.fit_transform(books_df_nax['title'])\n",
        "#des_vect = cnt_vect.fit_transform(books['description'])\n",
        "#books['book_info']=books['title']+books['description']\n",
        "#b_category=books['kdc_class_no']\n",
        "\n",
        "# 책 제목에 따른 코사인 유사도 추출\n",
        "#title_sim = cosine_similarity(title_vect, title_vect)\n",
        "#des_sim=cosine_similarity(des_vect, des_vect)\n",
        "#mix_sim=title_sim + des_sim\n",
        "#print(mix_sim[:6])\n",
        "#print(title_sim[:6])"
      ],
      "metadata": {
        "id": "RMra8ZKM74He"
      },
      "execution_count": null,
      "outputs": []
    },
    {
      "cell_type": "code",
      "source": [
        "#conda install faiss-gpu -c pytorch # [DEFAULT]For CUDA8.0, comes with cudatoolkit8.0\n",
        "#conda install faiss-gpu cuda90 -c pytorch # For CUDA9.0\n",
        "# conda install faiss-gpu cuda91 -c pytorch # For CUDA9.1\n",
        "# cuda90/cuda91 shown above is a feature, it doesn't install CUDA for you."
      ],
      "metadata": {
        "id": "Yf82OaVUqTah"
      },
      "execution_count": null,
      "outputs": []
    },
    {
      "cell_type": "markdown",
      "source": [
        "# 3. 희소행렬 차원축소 TruncatedSVD"
      ],
      "metadata": {
        "id": "yS-zVFId-VcL"
      }
    },
    {
      "cell_type": "code",
      "source": [
        "from sklearn.decomposition import TruncatedSVD\n",
        "from scipy.sparse import csr_matrix\n",
        "import numpy as np\n",
        "\n",
        "X = title_vect2\n",
        "svd = TruncatedSVD(n_components=500, n_iter=7, random_state=42)\n",
        "X_new=svd.fit_transform(X)"
      ],
      "metadata": {
        "id": "KA1mnbZ34A3q"
      },
      "execution_count": null,
      "outputs": []
    },
    {
      "cell_type": "code",
      "source": [
        "X_new.shape"
      ],
      "metadata": {
        "colab": {
          "base_uri": "https://localhost:8080/"
        },
        "id": "pP5XU44R4A8T",
        "outputId": "4f8ea3dc-15ff-4142-809f-0ec3cea6bcef"
      },
      "execution_count": null,
      "outputs": [
        {
          "output_type": "execute_result",
          "data": {
            "text/plain": [
              "(157118, 500)"
            ]
          },
          "metadata": {},
          "execution_count": 44
        }
      ]
    },
    {
      "cell_type": "code",
      "source": [
        "#des_vect = tfidf.fit_transform(books_df_nax['description'])\n",
        "#svd = TruncatedSVD(n_components=500, n_iter=7, random_state=42)\n",
        "#new_des_vect=svd.fit_transform(des_vect)"
      ],
      "metadata": {
        "id": "U677ws2L4A-e"
      },
      "execution_count": null,
      "outputs": []
    },
    {
      "cell_type": "code",
      "source": [],
      "metadata": {
        "id": "0BNExUNGSSau"
      },
      "execution_count": null,
      "outputs": []
    },
    {
      "cell_type": "code",
      "source": [
        "import faiss\n",
        "import numpy as np\n",
        "\n",
        "D = X_new.shape[1]\n",
        "K = 500  # The number of clusters\n",
        "X = X_new.astype(np.float32)\n",
        "\n",
        "\n",
        "# Setup\n",
        "kmeans = faiss.Kmeans(d=D, k=K, niter=20, verbose=True,gpu=True)\n",
        "# For GPU(s), run the following line. This will use all GPUs\n",
        "# kmeans = faiss.Kmeans(d=D, k=K, niter=20, verbose=True, gpu=True)\n",
        "\n",
        "# Run clustering\n",
        "kmeans.train(X)\n",
        "\n",
        "# Error for each iteration\n",
        "print(kmeans.obj)  # array with 20 elements\n",
        "\n",
        "# Centroids after clustering\n",
        "print(kmeans.centroids.shape)  # (10, 500)\n",
        "\n",
        "# The assignment for each vector.\n",
        "dists, ids = kmeans.index.search(X, 1)  # Need to run NN search again\n",
        "print(ids.shape)  # (157118, 1)\n",
        "\n",
        "# Params\n",
        "print(\"D:\", kmeans.d)\n",
        "print(\"K:\", kmeans.k)\n",
        "print(\"niter:\", kmeans.cp.niter)"
      ],
      "metadata": {
        "id": "Bd4fN5eD74Lx",
        "colab": {
          "base_uri": "https://localhost:8080/"
        },
        "outputId": "ddae7374-9252-4e41-a84f-10f7bd07f578"
      },
      "execution_count": null,
      "outputs": [
        {
          "output_type": "stream",
          "name": "stdout",
          "text": [
            "[13895.7890625  10826.734375    9281.20214844  8693.04101562\n",
            "  8352.88378906  8137.22900391  8009.79833984  7902.28613281\n",
            "  7835.91552734  7773.09082031  7699.23144531  7642.52148438\n",
            "  7595.60595703  7557.33349609  7530.17285156  7510.10302734\n",
            "  7499.12060547  7484.41259766  7473.23925781  7467.47851562]\n",
            "(500, 500)\n",
            "(157118, 1)\n",
            "D: 500\n",
            "K: 500\n",
            "niter: 20\n"
          ]
        }
      ]
    },
    {
      "cell_type": "code",
      "source": [
        "ids"
      ],
      "metadata": {
        "colab": {
          "base_uri": "https://localhost:8080/"
        },
        "id": "jbPXpq2iY3M0",
        "outputId": "b0c75753-122c-4084-fad3-66f8965d7c2a"
      },
      "execution_count": null,
      "outputs": [
        {
          "output_type": "execute_result",
          "data": {
            "text/plain": [
              "array([[292],\n",
              "       [292],\n",
              "       [111],\n",
              "       ...,\n",
              "       [136],\n",
              "       [ 31],\n",
              "       [ 12]])"
            ]
          },
          "metadata": {},
          "execution_count": 5
        }
      ]
    },
    {
      "cell_type": "code",
      "source": [
        "books_df_nax['tit_cluster']=ids"
      ],
      "metadata": {
        "id": "VPDEA7HK9yfX"
      },
      "execution_count": null,
      "outputs": []
    },
    {
      "cell_type": "code",
      "source": [
        "books_df_nax[books_df_nax['tit_cluster']==292]"
      ],
      "metadata": {
        "colab": {
          "base_uri": "https://localhost:8080/",
          "height": 763
        },
        "id": "fMD1Gr2n9yhw",
        "outputId": "f0bb2e6e-c291-42a4-a451-13aef7d084ed"
      },
      "execution_count": null,
      "outputs": [
        {
          "output_type": "execute_result",
          "data": {
            "text/plain": [
              "                                                    title  \\\n",
              "0            너에게 목소리를 보낼게 - &lt;달빛천사&gt; 성우 이용신의 첫 번째 에세이   \n",
              "1                   일기에도 거짓말을 쓰는 사람 - 99년생 시인의 자의식 과잉 에세이   \n",
              "3280                               오늘도, 소리도 - 이치운의 바다 에세이   \n",
              "3320    이타적 개인주의자 - 선 긋는데 선수이며, 남 돕는데 산수인 그가 혼자 커피 마시며...   \n",
              "3322    진짜 어른이 된다는 것은 - 일상에서 나만의 행복을 찾아가는 진솔하고 투명한 성찰 에세이   \n",
              "...                                                   ...   \n",
              "152681                                           에세이 손자병법   \n",
              "153372                          영어시간에 매를 맞던 소년이 쓰는 영어 에세이   \n",
              "155364                        어쩌다, 제주 - 서울 여자의 제주도 마실 에세이   \n",
              "156456                           투자의 민낯 - 본격 주식투자 뒷담화 에세이   \n",
              "156920     [큰글씨책] 가족에게 권하는 인문학 - 대한민국 보통 가족을 위한 독서 성장 에세이   \n",
              "\n",
              "                                              description  tit_cluster  \n",
              "0       2004년 방영한 애니메이션 &lt;달빛천사&gt;에서 주인공 루나(풀문) 역을 맡...          292  \n",
              "1       “그러니 나는 말하고 싶은 것을 말하겠다”「침착하게 사랑하기」 차도하 시인 첫 에세...          292  \n",
              "3280    수필 작가로서의 내공은 단일 소재에서 다층적인 이미지와 주제를 갈라 내는 우무로 알...          292  \n",
              "3320    저자 김인호의『이타적 개인주의자』은 크게 6장으로 나누어져 있으며 주옥같은 작품을 ...          292  \n",
              "3322    저자의 세 번째 에세이집. 지난 한 해 동안 책 읽고 산책하면서 나를 돌아보며 성찰...          292  \n",
              "...                                                   ...          ...  \n",
              "152681                                               none          292  \n",
              "153372                                               none          292  \n",
              "155364  서울 사는 회화 작가의 제주도 마실 에세이. 회화 작가인 저자는 2015년부터 제주...          292  \n",
              "156456  이제 성공한 5%의 이야기가 아닌 95%의 이야기를 들을 시간. &lt오마이뉴스&g...          292  \n",
              "156920  소명, 우정, 배움, 국가 등 누구나 한 번쯤 생각해볼 만한 10개의 주제와 함께 ...          292  \n",
              "\n",
              "[283 rows x 3 columns]"
            ],
            "text/html": [
              "\n",
              "  <div id=\"df-4477348f-57bc-4faa-94af-5cf692a9e6b9\">\n",
              "    <div class=\"colab-df-container\">\n",
              "      <div>\n",
              "<style scoped>\n",
              "    .dataframe tbody tr th:only-of-type {\n",
              "        vertical-align: middle;\n",
              "    }\n",
              "\n",
              "    .dataframe tbody tr th {\n",
              "        vertical-align: top;\n",
              "    }\n",
              "\n",
              "    .dataframe thead th {\n",
              "        text-align: right;\n",
              "    }\n",
              "</style>\n",
              "<table border=\"1\" class=\"dataframe\">\n",
              "  <thead>\n",
              "    <tr style=\"text-align: right;\">\n",
              "      <th></th>\n",
              "      <th>title</th>\n",
              "      <th>description</th>\n",
              "      <th>tit_cluster</th>\n",
              "    </tr>\n",
              "  </thead>\n",
              "  <tbody>\n",
              "    <tr>\n",
              "      <th>0</th>\n",
              "      <td>너에게 목소리를 보낼게 - &amp;lt;달빛천사&amp;gt; 성우 이용신의 첫 번째 에세이</td>\n",
              "      <td>2004년 방영한 애니메이션 &amp;lt;달빛천사&amp;gt;에서 주인공 루나(풀문) 역을 맡...</td>\n",
              "      <td>292</td>\n",
              "    </tr>\n",
              "    <tr>\n",
              "      <th>1</th>\n",
              "      <td>일기에도 거짓말을 쓰는 사람 - 99년생 시인의 자의식 과잉 에세이</td>\n",
              "      <td>“그러니 나는 말하고 싶은 것을 말하겠다”「침착하게 사랑하기」 차도하 시인 첫 에세...</td>\n",
              "      <td>292</td>\n",
              "    </tr>\n",
              "    <tr>\n",
              "      <th>3280</th>\n",
              "      <td>오늘도, 소리도 - 이치운의 바다 에세이</td>\n",
              "      <td>수필 작가로서의 내공은 단일 소재에서 다층적인 이미지와 주제를 갈라 내는 우무로 알...</td>\n",
              "      <td>292</td>\n",
              "    </tr>\n",
              "    <tr>\n",
              "      <th>3320</th>\n",
              "      <td>이타적 개인주의자 - 선 긋는데 선수이며, 남 돕는데 산수인 그가 혼자 커피 마시며...</td>\n",
              "      <td>저자 김인호의『이타적 개인주의자』은 크게 6장으로 나누어져 있으며 주옥같은 작품을 ...</td>\n",
              "      <td>292</td>\n",
              "    </tr>\n",
              "    <tr>\n",
              "      <th>3322</th>\n",
              "      <td>진짜 어른이 된다는 것은 - 일상에서 나만의 행복을 찾아가는 진솔하고 투명한 성찰 에세이</td>\n",
              "      <td>저자의 세 번째 에세이집. 지난 한 해 동안 책 읽고 산책하면서 나를 돌아보며 성찰...</td>\n",
              "      <td>292</td>\n",
              "    </tr>\n",
              "    <tr>\n",
              "      <th>...</th>\n",
              "      <td>...</td>\n",
              "      <td>...</td>\n",
              "      <td>...</td>\n",
              "    </tr>\n",
              "    <tr>\n",
              "      <th>152681</th>\n",
              "      <td>에세이 손자병법</td>\n",
              "      <td>none</td>\n",
              "      <td>292</td>\n",
              "    </tr>\n",
              "    <tr>\n",
              "      <th>153372</th>\n",
              "      <td>영어시간에 매를 맞던 소년이 쓰는 영어 에세이</td>\n",
              "      <td>none</td>\n",
              "      <td>292</td>\n",
              "    </tr>\n",
              "    <tr>\n",
              "      <th>155364</th>\n",
              "      <td>어쩌다, 제주 - 서울 여자의 제주도 마실 에세이</td>\n",
              "      <td>서울 사는 회화 작가의 제주도 마실 에세이. 회화 작가인 저자는 2015년부터 제주...</td>\n",
              "      <td>292</td>\n",
              "    </tr>\n",
              "    <tr>\n",
              "      <th>156456</th>\n",
              "      <td>투자의 민낯 - 본격 주식투자 뒷담화 에세이</td>\n",
              "      <td>이제 성공한 5%의 이야기가 아닌 95%의 이야기를 들을 시간. &amp;lt오마이뉴스&amp;g...</td>\n",
              "      <td>292</td>\n",
              "    </tr>\n",
              "    <tr>\n",
              "      <th>156920</th>\n",
              "      <td>[큰글씨책] 가족에게 권하는 인문학 - 대한민국 보통 가족을 위한 독서 성장 에세이</td>\n",
              "      <td>소명, 우정, 배움, 국가 등 누구나 한 번쯤 생각해볼 만한 10개의 주제와 함께 ...</td>\n",
              "      <td>292</td>\n",
              "    </tr>\n",
              "  </tbody>\n",
              "</table>\n",
              "<p>283 rows × 3 columns</p>\n",
              "</div>\n",
              "      <button class=\"colab-df-convert\" onclick=\"convertToInteractive('df-4477348f-57bc-4faa-94af-5cf692a9e6b9')\"\n",
              "              title=\"Convert this dataframe to an interactive table.\"\n",
              "              style=\"display:none;\">\n",
              "        \n",
              "  <svg xmlns=\"http://www.w3.org/2000/svg\" height=\"24px\"viewBox=\"0 0 24 24\"\n",
              "       width=\"24px\">\n",
              "    <path d=\"M0 0h24v24H0V0z\" fill=\"none\"/>\n",
              "    <path d=\"M18.56 5.44l.94 2.06.94-2.06 2.06-.94-2.06-.94-.94-2.06-.94 2.06-2.06.94zm-11 1L8.5 8.5l.94-2.06 2.06-.94-2.06-.94L8.5 2.5l-.94 2.06-2.06.94zm10 10l.94 2.06.94-2.06 2.06-.94-2.06-.94-.94-2.06-.94 2.06-2.06.94z\"/><path d=\"M17.41 7.96l-1.37-1.37c-.4-.4-.92-.59-1.43-.59-.52 0-1.04.2-1.43.59L10.3 9.45l-7.72 7.72c-.78.78-.78 2.05 0 2.83L4 21.41c.39.39.9.59 1.41.59.51 0 1.02-.2 1.41-.59l7.78-7.78 2.81-2.81c.8-.78.8-2.07 0-2.86zM5.41 20L4 18.59l7.72-7.72 1.47 1.35L5.41 20z\"/>\n",
              "  </svg>\n",
              "      </button>\n",
              "      \n",
              "  <style>\n",
              "    .colab-df-container {\n",
              "      display:flex;\n",
              "      flex-wrap:wrap;\n",
              "      gap: 12px;\n",
              "    }\n",
              "\n",
              "    .colab-df-convert {\n",
              "      background-color: #E8F0FE;\n",
              "      border: none;\n",
              "      border-radius: 50%;\n",
              "      cursor: pointer;\n",
              "      display: none;\n",
              "      fill: #1967D2;\n",
              "      height: 32px;\n",
              "      padding: 0 0 0 0;\n",
              "      width: 32px;\n",
              "    }\n",
              "\n",
              "    .colab-df-convert:hover {\n",
              "      background-color: #E2EBFA;\n",
              "      box-shadow: 0px 1px 2px rgba(60, 64, 67, 0.3), 0px 1px 3px 1px rgba(60, 64, 67, 0.15);\n",
              "      fill: #174EA6;\n",
              "    }\n",
              "\n",
              "    [theme=dark] .colab-df-convert {\n",
              "      background-color: #3B4455;\n",
              "      fill: #D2E3FC;\n",
              "    }\n",
              "\n",
              "    [theme=dark] .colab-df-convert:hover {\n",
              "      background-color: #434B5C;\n",
              "      box-shadow: 0px 1px 3px 1px rgba(0, 0, 0, 0.15);\n",
              "      filter: drop-shadow(0px 1px 2px rgba(0, 0, 0, 0.3));\n",
              "      fill: #FFFFFF;\n",
              "    }\n",
              "  </style>\n",
              "\n",
              "      <script>\n",
              "        const buttonEl =\n",
              "          document.querySelector('#df-4477348f-57bc-4faa-94af-5cf692a9e6b9 button.colab-df-convert');\n",
              "        buttonEl.style.display =\n",
              "          google.colab.kernel.accessAllowed ? 'block' : 'none';\n",
              "\n",
              "        async function convertToInteractive(key) {\n",
              "          const element = document.querySelector('#df-4477348f-57bc-4faa-94af-5cf692a9e6b9');\n",
              "          const dataTable =\n",
              "            await google.colab.kernel.invokeFunction('convertToInteractive',\n",
              "                                                     [key], {});\n",
              "          if (!dataTable) return;\n",
              "\n",
              "          const docLinkHtml = 'Like what you see? Visit the ' +\n",
              "            '<a target=\"_blank\" href=https://colab.research.google.com/notebooks/data_table.ipynb>data table notebook</a>'\n",
              "            + ' to learn more about interactive tables.';\n",
              "          element.innerHTML = '';\n",
              "          dataTable['output_type'] = 'display_data';\n",
              "          await google.colab.output.renderOutput(dataTable, element);\n",
              "          const docLink = document.createElement('div');\n",
              "          docLink.innerHTML = docLinkHtml;\n",
              "          element.appendChild(docLink);\n",
              "        }\n",
              "      </script>\n",
              "    </div>\n",
              "  </div>\n",
              "  "
            ]
          },
          "metadata": {},
          "execution_count": 8
        }
      ]
    },
    {
      "cell_type": "code",
      "source": [
        "books_df_nax[books_df_nax['tit_cluster']==31]"
      ],
      "metadata": {
        "colab": {
          "base_uri": "https://localhost:8080/",
          "height": 780
        },
        "id": "9SDEEAX-ebM2",
        "outputId": "42ab1572-2cb6-4341-9273-0a259fc78078"
      },
      "execution_count": null,
      "outputs": [
        {
          "output_type": "execute_result",
          "data": {
            "text/plain": [
              "                                                    title  \\\n",
              "15166                                     (한권으로 끝내는)관광중국어   \n",
              "25139                                     (한권으로 끝내는)중국어작문   \n",
              "25795                                (한권으로 끝내는)땡땡땡 초등교육과정   \n",
              "29683                (수석합격생 간호사 안미영의) 한권으로 끝내는 공인중개사:2차대비   \n",
              "29685                               (국가공인) 신용관리사:한권으로 끝내는   \n",
              "...                                                   ...   \n",
              "147194                     간호사 면접 기출문제 해설 :한권으로 끝내는 면접의 神   \n",
              "152498                                (한권으로 만나는) 세계문학 50선   \n",
              "154497  2022 기술직공무원 식품위생직 식품화학 한권으로 끝내기 - 9급 지방직ㆍ교육청 채...   \n",
              "154511  2022 조경기사 필기 한권으로 끝내기 - 2021년 최근 기출문제와 해설 수록! ...   \n",
              "157116  중학영문법 총정리 한권으로 끝내기 (EBS강사 혼공쌤 허준석의 &quot;쉽고 재미...   \n",
              "\n",
              "                                              description  tit_cluster  \n",
              "15166   이 책은 관광통역안내원이 갖추어야 할 기본적인 소양과 자세를 제시하고 이들이 해야 ...           31  \n",
              "25139   본 교재는 중국어와 한국어가 지닌 문법적 특성을 대조 분석함으로써 두 언어 사이의 ...           31  \n",
              "25795   제7차 해설서 내용을 중심으로 지도서의 총론과 교과 교육론 핵심을 요약해 실었다. ...           31  \n",
              "29683   2006년 17회 공인중개사 2차 시험 대비 수험서. 처음 공부하는 수험생들의 기초...           31  \n",
              "29685   신용관리사 자격 시험 대비 수험서. 이 책은 법률에 대한 기본지식이 없는 일반인들이...           31  \n",
              "...                                                   ...          ...  \n",
              "147194  간호사 면접 기출문제를 해설하는 수험서다. 실제 면접을 보는 방식으로 구성하였다. ...           31  \n",
              "152498                                               none           31  \n",
              "154497  총 11개의 단원으로 구성된 이론이 체계적으로 꼼꼼하게 정리되어 있다. 시험에 나오...           31  \n",
              "154511  “핵심이론+적중예상문제+기출문제” 3단계로 구분해 한 권으로 엮음으로써 최단기간에 ...           31  \n",
              "157116                                               none           31  \n",
              "\n",
              "[80 rows x 3 columns]"
            ],
            "text/html": [
              "\n",
              "  <div id=\"df-7d339634-1ed9-4de2-a27c-5e61d5ce15d7\">\n",
              "    <div class=\"colab-df-container\">\n",
              "      <div>\n",
              "<style scoped>\n",
              "    .dataframe tbody tr th:only-of-type {\n",
              "        vertical-align: middle;\n",
              "    }\n",
              "\n",
              "    .dataframe tbody tr th {\n",
              "        vertical-align: top;\n",
              "    }\n",
              "\n",
              "    .dataframe thead th {\n",
              "        text-align: right;\n",
              "    }\n",
              "</style>\n",
              "<table border=\"1\" class=\"dataframe\">\n",
              "  <thead>\n",
              "    <tr style=\"text-align: right;\">\n",
              "      <th></th>\n",
              "      <th>title</th>\n",
              "      <th>description</th>\n",
              "      <th>tit_cluster</th>\n",
              "    </tr>\n",
              "  </thead>\n",
              "  <tbody>\n",
              "    <tr>\n",
              "      <th>15166</th>\n",
              "      <td>(한권으로 끝내는)관광중국어</td>\n",
              "      <td>이 책은 관광통역안내원이 갖추어야 할 기본적인 소양과 자세를 제시하고 이들이 해야 ...</td>\n",
              "      <td>31</td>\n",
              "    </tr>\n",
              "    <tr>\n",
              "      <th>25139</th>\n",
              "      <td>(한권으로 끝내는)중국어작문</td>\n",
              "      <td>본 교재는 중국어와 한국어가 지닌 문법적 특성을 대조 분석함으로써 두 언어 사이의 ...</td>\n",
              "      <td>31</td>\n",
              "    </tr>\n",
              "    <tr>\n",
              "      <th>25795</th>\n",
              "      <td>(한권으로 끝내는)땡땡땡 초등교육과정</td>\n",
              "      <td>제7차 해설서 내용을 중심으로 지도서의 총론과 교과 교육론 핵심을 요약해 실었다. ...</td>\n",
              "      <td>31</td>\n",
              "    </tr>\n",
              "    <tr>\n",
              "      <th>29683</th>\n",
              "      <td>(수석합격생 간호사 안미영의) 한권으로 끝내는 공인중개사:2차대비</td>\n",
              "      <td>2006년 17회 공인중개사 2차 시험 대비 수험서. 처음 공부하는 수험생들의 기초...</td>\n",
              "      <td>31</td>\n",
              "    </tr>\n",
              "    <tr>\n",
              "      <th>29685</th>\n",
              "      <td>(국가공인) 신용관리사:한권으로 끝내는</td>\n",
              "      <td>신용관리사 자격 시험 대비 수험서. 이 책은 법률에 대한 기본지식이 없는 일반인들이...</td>\n",
              "      <td>31</td>\n",
              "    </tr>\n",
              "    <tr>\n",
              "      <th>...</th>\n",
              "      <td>...</td>\n",
              "      <td>...</td>\n",
              "      <td>...</td>\n",
              "    </tr>\n",
              "    <tr>\n",
              "      <th>147194</th>\n",
              "      <td>간호사 면접 기출문제 해설 :한권으로 끝내는 면접의 神</td>\n",
              "      <td>간호사 면접 기출문제를 해설하는 수험서다. 실제 면접을 보는 방식으로 구성하였다. ...</td>\n",
              "      <td>31</td>\n",
              "    </tr>\n",
              "    <tr>\n",
              "      <th>152498</th>\n",
              "      <td>(한권으로 만나는) 세계문학 50선</td>\n",
              "      <td>none</td>\n",
              "      <td>31</td>\n",
              "    </tr>\n",
              "    <tr>\n",
              "      <th>154497</th>\n",
              "      <td>2022 기술직공무원 식품위생직 식품화학 한권으로 끝내기 - 9급 지방직ㆍ교육청 채...</td>\n",
              "      <td>총 11개의 단원으로 구성된 이론이 체계적으로 꼼꼼하게 정리되어 있다. 시험에 나오...</td>\n",
              "      <td>31</td>\n",
              "    </tr>\n",
              "    <tr>\n",
              "      <th>154511</th>\n",
              "      <td>2022 조경기사 필기 한권으로 끝내기 - 2021년 최근 기출문제와 해설 수록! ...</td>\n",
              "      <td>“핵심이론+적중예상문제+기출문제” 3단계로 구분해 한 권으로 엮음으로써 최단기간에 ...</td>\n",
              "      <td>31</td>\n",
              "    </tr>\n",
              "    <tr>\n",
              "      <th>157116</th>\n",
              "      <td>중학영문법 총정리 한권으로 끝내기 (EBS강사 혼공쌤 허준석의 &amp;quot;쉽고 재미...</td>\n",
              "      <td>none</td>\n",
              "      <td>31</td>\n",
              "    </tr>\n",
              "  </tbody>\n",
              "</table>\n",
              "<p>80 rows × 3 columns</p>\n",
              "</div>\n",
              "      <button class=\"colab-df-convert\" onclick=\"convertToInteractive('df-7d339634-1ed9-4de2-a27c-5e61d5ce15d7')\"\n",
              "              title=\"Convert this dataframe to an interactive table.\"\n",
              "              style=\"display:none;\">\n",
              "        \n",
              "  <svg xmlns=\"http://www.w3.org/2000/svg\" height=\"24px\"viewBox=\"0 0 24 24\"\n",
              "       width=\"24px\">\n",
              "    <path d=\"M0 0h24v24H0V0z\" fill=\"none\"/>\n",
              "    <path d=\"M18.56 5.44l.94 2.06.94-2.06 2.06-.94-2.06-.94-.94-2.06-.94 2.06-2.06.94zm-11 1L8.5 8.5l.94-2.06 2.06-.94-2.06-.94L8.5 2.5l-.94 2.06-2.06.94zm10 10l.94 2.06.94-2.06 2.06-.94-2.06-.94-.94-2.06-.94 2.06-2.06.94z\"/><path d=\"M17.41 7.96l-1.37-1.37c-.4-.4-.92-.59-1.43-.59-.52 0-1.04.2-1.43.59L10.3 9.45l-7.72 7.72c-.78.78-.78 2.05 0 2.83L4 21.41c.39.39.9.59 1.41.59.51 0 1.02-.2 1.41-.59l7.78-7.78 2.81-2.81c.8-.78.8-2.07 0-2.86zM5.41 20L4 18.59l7.72-7.72 1.47 1.35L5.41 20z\"/>\n",
              "  </svg>\n",
              "      </button>\n",
              "      \n",
              "  <style>\n",
              "    .colab-df-container {\n",
              "      display:flex;\n",
              "      flex-wrap:wrap;\n",
              "      gap: 12px;\n",
              "    }\n",
              "\n",
              "    .colab-df-convert {\n",
              "      background-color: #E8F0FE;\n",
              "      border: none;\n",
              "      border-radius: 50%;\n",
              "      cursor: pointer;\n",
              "      display: none;\n",
              "      fill: #1967D2;\n",
              "      height: 32px;\n",
              "      padding: 0 0 0 0;\n",
              "      width: 32px;\n",
              "    }\n",
              "\n",
              "    .colab-df-convert:hover {\n",
              "      background-color: #E2EBFA;\n",
              "      box-shadow: 0px 1px 2px rgba(60, 64, 67, 0.3), 0px 1px 3px 1px rgba(60, 64, 67, 0.15);\n",
              "      fill: #174EA6;\n",
              "    }\n",
              "\n",
              "    [theme=dark] .colab-df-convert {\n",
              "      background-color: #3B4455;\n",
              "      fill: #D2E3FC;\n",
              "    }\n",
              "\n",
              "    [theme=dark] .colab-df-convert:hover {\n",
              "      background-color: #434B5C;\n",
              "      box-shadow: 0px 1px 3px 1px rgba(0, 0, 0, 0.15);\n",
              "      filter: drop-shadow(0px 1px 2px rgba(0, 0, 0, 0.3));\n",
              "      fill: #FFFFFF;\n",
              "    }\n",
              "  </style>\n",
              "\n",
              "      <script>\n",
              "        const buttonEl =\n",
              "          document.querySelector('#df-7d339634-1ed9-4de2-a27c-5e61d5ce15d7 button.colab-df-convert');\n",
              "        buttonEl.style.display =\n",
              "          google.colab.kernel.accessAllowed ? 'block' : 'none';\n",
              "\n",
              "        async function convertToInteractive(key) {\n",
              "          const element = document.querySelector('#df-7d339634-1ed9-4de2-a27c-5e61d5ce15d7');\n",
              "          const dataTable =\n",
              "            await google.colab.kernel.invokeFunction('convertToInteractive',\n",
              "                                                     [key], {});\n",
              "          if (!dataTable) return;\n",
              "\n",
              "          const docLinkHtml = 'Like what you see? Visit the ' +\n",
              "            '<a target=\"_blank\" href=https://colab.research.google.com/notebooks/data_table.ipynb>data table notebook</a>'\n",
              "            + ' to learn more about interactive tables.';\n",
              "          element.innerHTML = '';\n",
              "          dataTable['output_type'] = 'display_data';\n",
              "          await google.colab.output.renderOutput(dataTable, element);\n",
              "          const docLink = document.createElement('div');\n",
              "          docLink.innerHTML = docLinkHtml;\n",
              "          element.appendChild(docLink);\n",
              "        }\n",
              "      </script>\n",
              "    </div>\n",
              "  </div>\n",
              "  "
            ]
          },
          "metadata": {},
          "execution_count": 9
        }
      ]
    },
    {
      "cell_type": "code",
      "source": [
        "books_df_nax[books_df_nax['tit_cluster']==111]"
      ],
      "metadata": {
        "colab": {
          "base_uri": "https://localhost:8080/",
          "height": 424
        },
        "id": "W0a7GBx5ehyV",
        "outputId": "1085ca9c-5dbb-4cb6-93f6-a0da4b6749f5"
      },
      "execution_count": null,
      "outputs": [
        {
          "output_type": "execute_result",
          "data": {
            "text/plain": [
              "                                          title  \\\n",
              "2                   본격 한중일 세계사 12 - 임오군란과 통킹 위기   \n",
              "1012                                     이상한 아빠   \n",
              "1521                                         도쿄   \n",
              "1800                                     이상한 안경   \n",
              "2701                           이상한 과자 가게 전천당 12   \n",
              "...                                         ...   \n",
              "153344                                     어느 날   \n",
              "153417                                    이상한 꿈   \n",
              "153418                          이상한 서평단의 이상한 서평   \n",
              "153419                                   이상한 휴가   \n",
              "157113  설민석의 세계사 대모험 11 (영국 산업 혁명 편: 혁명에 맞선 자들)   \n",
              "\n",
              "                                              description  tit_cluster  \n",
              "2       한중일 관계의 결정적 분기점인 임오군란의 막전 막후를 다룬다. 러시아의 세력 확장을...          111  \n",
              "1012                                                 none          111  \n",
              "1521                                                 none          111  \n",
              "1800                                                 none          111  \n",
              "2701                                                 none          111  \n",
              "...                                                   ...          ...  \n",
              "153344                                               none          111  \n",
              "153417                                               none          111  \n",
              "153418                                               none          111  \n",
              "153419                                               none          111  \n",
              "157113                                               none          111  \n",
              "\n",
              "[297 rows x 3 columns]"
            ],
            "text/html": [
              "\n",
              "  <div id=\"df-6261d845-6378-41a8-853c-cb6044a5b2e5\">\n",
              "    <div class=\"colab-df-container\">\n",
              "      <div>\n",
              "<style scoped>\n",
              "    .dataframe tbody tr th:only-of-type {\n",
              "        vertical-align: middle;\n",
              "    }\n",
              "\n",
              "    .dataframe tbody tr th {\n",
              "        vertical-align: top;\n",
              "    }\n",
              "\n",
              "    .dataframe thead th {\n",
              "        text-align: right;\n",
              "    }\n",
              "</style>\n",
              "<table border=\"1\" class=\"dataframe\">\n",
              "  <thead>\n",
              "    <tr style=\"text-align: right;\">\n",
              "      <th></th>\n",
              "      <th>title</th>\n",
              "      <th>description</th>\n",
              "      <th>tit_cluster</th>\n",
              "    </tr>\n",
              "  </thead>\n",
              "  <tbody>\n",
              "    <tr>\n",
              "      <th>2</th>\n",
              "      <td>본격 한중일 세계사 12 - 임오군란과 통킹 위기</td>\n",
              "      <td>한중일 관계의 결정적 분기점인 임오군란의 막전 막후를 다룬다. 러시아의 세력 확장을...</td>\n",
              "      <td>111</td>\n",
              "    </tr>\n",
              "    <tr>\n",
              "      <th>1012</th>\n",
              "      <td>이상한 아빠</td>\n",
              "      <td>none</td>\n",
              "      <td>111</td>\n",
              "    </tr>\n",
              "    <tr>\n",
              "      <th>1521</th>\n",
              "      <td>도쿄</td>\n",
              "      <td>none</td>\n",
              "      <td>111</td>\n",
              "    </tr>\n",
              "    <tr>\n",
              "      <th>1800</th>\n",
              "      <td>이상한 안경</td>\n",
              "      <td>none</td>\n",
              "      <td>111</td>\n",
              "    </tr>\n",
              "    <tr>\n",
              "      <th>2701</th>\n",
              "      <td>이상한 과자 가게 전천당 12</td>\n",
              "      <td>none</td>\n",
              "      <td>111</td>\n",
              "    </tr>\n",
              "    <tr>\n",
              "      <th>...</th>\n",
              "      <td>...</td>\n",
              "      <td>...</td>\n",
              "      <td>...</td>\n",
              "    </tr>\n",
              "    <tr>\n",
              "      <th>153344</th>\n",
              "      <td>어느 날</td>\n",
              "      <td>none</td>\n",
              "      <td>111</td>\n",
              "    </tr>\n",
              "    <tr>\n",
              "      <th>153417</th>\n",
              "      <td>이상한 꿈</td>\n",
              "      <td>none</td>\n",
              "      <td>111</td>\n",
              "    </tr>\n",
              "    <tr>\n",
              "      <th>153418</th>\n",
              "      <td>이상한 서평단의 이상한 서평</td>\n",
              "      <td>none</td>\n",
              "      <td>111</td>\n",
              "    </tr>\n",
              "    <tr>\n",
              "      <th>153419</th>\n",
              "      <td>이상한 휴가</td>\n",
              "      <td>none</td>\n",
              "      <td>111</td>\n",
              "    </tr>\n",
              "    <tr>\n",
              "      <th>157113</th>\n",
              "      <td>설민석의 세계사 대모험 11 (영국 산업 혁명 편: 혁명에 맞선 자들)</td>\n",
              "      <td>none</td>\n",
              "      <td>111</td>\n",
              "    </tr>\n",
              "  </tbody>\n",
              "</table>\n",
              "<p>297 rows × 3 columns</p>\n",
              "</div>\n",
              "      <button class=\"colab-df-convert\" onclick=\"convertToInteractive('df-6261d845-6378-41a8-853c-cb6044a5b2e5')\"\n",
              "              title=\"Convert this dataframe to an interactive table.\"\n",
              "              style=\"display:none;\">\n",
              "        \n",
              "  <svg xmlns=\"http://www.w3.org/2000/svg\" height=\"24px\"viewBox=\"0 0 24 24\"\n",
              "       width=\"24px\">\n",
              "    <path d=\"M0 0h24v24H0V0z\" fill=\"none\"/>\n",
              "    <path d=\"M18.56 5.44l.94 2.06.94-2.06 2.06-.94-2.06-.94-.94-2.06-.94 2.06-2.06.94zm-11 1L8.5 8.5l.94-2.06 2.06-.94-2.06-.94L8.5 2.5l-.94 2.06-2.06.94zm10 10l.94 2.06.94-2.06 2.06-.94-2.06-.94-.94-2.06-.94 2.06-2.06.94z\"/><path d=\"M17.41 7.96l-1.37-1.37c-.4-.4-.92-.59-1.43-.59-.52 0-1.04.2-1.43.59L10.3 9.45l-7.72 7.72c-.78.78-.78 2.05 0 2.83L4 21.41c.39.39.9.59 1.41.59.51 0 1.02-.2 1.41-.59l7.78-7.78 2.81-2.81c.8-.78.8-2.07 0-2.86zM5.41 20L4 18.59l7.72-7.72 1.47 1.35L5.41 20z\"/>\n",
              "  </svg>\n",
              "      </button>\n",
              "      \n",
              "  <style>\n",
              "    .colab-df-container {\n",
              "      display:flex;\n",
              "      flex-wrap:wrap;\n",
              "      gap: 12px;\n",
              "    }\n",
              "\n",
              "    .colab-df-convert {\n",
              "      background-color: #E8F0FE;\n",
              "      border: none;\n",
              "      border-radius: 50%;\n",
              "      cursor: pointer;\n",
              "      display: none;\n",
              "      fill: #1967D2;\n",
              "      height: 32px;\n",
              "      padding: 0 0 0 0;\n",
              "      width: 32px;\n",
              "    }\n",
              "\n",
              "    .colab-df-convert:hover {\n",
              "      background-color: #E2EBFA;\n",
              "      box-shadow: 0px 1px 2px rgba(60, 64, 67, 0.3), 0px 1px 3px 1px rgba(60, 64, 67, 0.15);\n",
              "      fill: #174EA6;\n",
              "    }\n",
              "\n",
              "    [theme=dark] .colab-df-convert {\n",
              "      background-color: #3B4455;\n",
              "      fill: #D2E3FC;\n",
              "    }\n",
              "\n",
              "    [theme=dark] .colab-df-convert:hover {\n",
              "      background-color: #434B5C;\n",
              "      box-shadow: 0px 1px 3px 1px rgba(0, 0, 0, 0.15);\n",
              "      filter: drop-shadow(0px 1px 2px rgba(0, 0, 0, 0.3));\n",
              "      fill: #FFFFFF;\n",
              "    }\n",
              "  </style>\n",
              "\n",
              "      <script>\n",
              "        const buttonEl =\n",
              "          document.querySelector('#df-6261d845-6378-41a8-853c-cb6044a5b2e5 button.colab-df-convert');\n",
              "        buttonEl.style.display =\n",
              "          google.colab.kernel.accessAllowed ? 'block' : 'none';\n",
              "\n",
              "        async function convertToInteractive(key) {\n",
              "          const element = document.querySelector('#df-6261d845-6378-41a8-853c-cb6044a5b2e5');\n",
              "          const dataTable =\n",
              "            await google.colab.kernel.invokeFunction('convertToInteractive',\n",
              "                                                     [key], {});\n",
              "          if (!dataTable) return;\n",
              "\n",
              "          const docLinkHtml = 'Like what you see? Visit the ' +\n",
              "            '<a target=\"_blank\" href=https://colab.research.google.com/notebooks/data_table.ipynb>data table notebook</a>'\n",
              "            + ' to learn more about interactive tables.';\n",
              "          element.innerHTML = '';\n",
              "          dataTable['output_type'] = 'display_data';\n",
              "          await google.colab.output.renderOutput(dataTable, element);\n",
              "          const docLink = document.createElement('div');\n",
              "          docLink.innerHTML = docLinkHtml;\n",
              "          element.appendChild(docLink);\n",
              "        }\n",
              "      </script>\n",
              "    </div>\n",
              "  </div>\n",
              "  "
            ]
          },
          "metadata": {},
          "execution_count": 27
        }
      ]
    },
    {
      "cell_type": "code",
      "source": [
        "books_df_nax[books_df_nax['tit_cluster']==12]"
      ],
      "metadata": {
        "colab": {
          "base_uri": "https://localhost:8080/",
          "height": 424
        },
        "id": "7HGZ1-aIeuWN",
        "outputId": "d541bf09-c89c-4708-fdf9-0271be0b8b4b"
      },
      "execution_count": null,
      "outputs": [
        {
          "output_type": "execute_result",
          "data": {
            "text/plain": [
              "                                                    title  \\\n",
              "22                     권력의 미래 - 소프트 파워 리더십은 어떻게 세상을 바꾸는가？   \n",
              "629     예술은 어떻게 비즈니스의 무기가 되는가 - 0에서 1을 창조하는 혁신적 사고법, 아...   \n",
              "689                                    독서지도 어떻게 할 것인가 . 1   \n",
              "768                                       주제는 어떻게 정할까?. 3   \n",
              "797                                 고대 이집트 사람들은 어떻게 살았을까?   \n",
              "...                                                   ...   \n",
              "155361                      평범한 직장인이 어떻게 1년 만에 2권의 책을 썼을까   \n",
              "155594                    남자의 품격 - 중세의 기사는 어떻게 남자로 만들어졌는가   \n",
              "155636  화학공학기술자 어떻게 되었을까? - 현직 화학공학기술자들을 통해 알아보는 리얼 직업...   \n",
              "156850                                  가족이야기는 어떻게 만들어지는가   \n",
              "157117                             더 빅 윈 (이룰 것인가, 남길 것인가)   \n",
              "\n",
              "                                              description  tit_cluster  \n",
              "22      조지프 나이가 다양한 활동 끝에 권력적 관계의 핵심 요소들을 분석한 책으로, 서문에...           12  \n",
              "629     아트 씽킹을 키우기 위한 다양한 훈련법이 나온다. 그림을 그리며 아이디어를 확장하는...           12  \n",
              "689                                                  none           12  \n",
              "768                                                  none           12  \n",
              "797                                                  none           12  \n",
              "...                                                   ...          ...  \n",
              "155361  저자는 작가가 되겠다는 마음을 먹은 지 7개월 만에 마침내 작가가 되었다. 이 책은...           12  \n",
              "155594  남성다움의 전형으로 일컬어지는 중세의 기사는 어떻게 만들어졌을까? 저자는 플랑드르 ...           12  \n",
              "155636  엄마 아빠도 모르고 선생님도 몰랐던 화학공학기술자 6인이 말하는 직업인의 이야기를 ...           12  \n",
              "156850  가족 이데올로기는 우리 사회를 지배하는 대표적인 담론 중 하나이다. 사회 구성의 기...           12  \n",
              "157117                                               none           12  \n",
              "\n",
              "[333 rows x 3 columns]"
            ],
            "text/html": [
              "\n",
              "  <div id=\"df-10fcc9ab-ee9f-485b-b5c8-4480b128164a\">\n",
              "    <div class=\"colab-df-container\">\n",
              "      <div>\n",
              "<style scoped>\n",
              "    .dataframe tbody tr th:only-of-type {\n",
              "        vertical-align: middle;\n",
              "    }\n",
              "\n",
              "    .dataframe tbody tr th {\n",
              "        vertical-align: top;\n",
              "    }\n",
              "\n",
              "    .dataframe thead th {\n",
              "        text-align: right;\n",
              "    }\n",
              "</style>\n",
              "<table border=\"1\" class=\"dataframe\">\n",
              "  <thead>\n",
              "    <tr style=\"text-align: right;\">\n",
              "      <th></th>\n",
              "      <th>title</th>\n",
              "      <th>description</th>\n",
              "      <th>tit_cluster</th>\n",
              "    </tr>\n",
              "  </thead>\n",
              "  <tbody>\n",
              "    <tr>\n",
              "      <th>22</th>\n",
              "      <td>권력의 미래 - 소프트 파워 리더십은 어떻게 세상을 바꾸는가？</td>\n",
              "      <td>조지프 나이가 다양한 활동 끝에 권력적 관계의 핵심 요소들을 분석한 책으로, 서문에...</td>\n",
              "      <td>12</td>\n",
              "    </tr>\n",
              "    <tr>\n",
              "      <th>629</th>\n",
              "      <td>예술은 어떻게 비즈니스의 무기가 되는가 - 0에서 1을 창조하는 혁신적 사고법, 아...</td>\n",
              "      <td>아트 씽킹을 키우기 위한 다양한 훈련법이 나온다. 그림을 그리며 아이디어를 확장하는...</td>\n",
              "      <td>12</td>\n",
              "    </tr>\n",
              "    <tr>\n",
              "      <th>689</th>\n",
              "      <td>독서지도 어떻게 할 것인가 . 1</td>\n",
              "      <td>none</td>\n",
              "      <td>12</td>\n",
              "    </tr>\n",
              "    <tr>\n",
              "      <th>768</th>\n",
              "      <td>주제는 어떻게 정할까?. 3</td>\n",
              "      <td>none</td>\n",
              "      <td>12</td>\n",
              "    </tr>\n",
              "    <tr>\n",
              "      <th>797</th>\n",
              "      <td>고대 이집트 사람들은 어떻게 살았을까?</td>\n",
              "      <td>none</td>\n",
              "      <td>12</td>\n",
              "    </tr>\n",
              "    <tr>\n",
              "      <th>...</th>\n",
              "      <td>...</td>\n",
              "      <td>...</td>\n",
              "      <td>...</td>\n",
              "    </tr>\n",
              "    <tr>\n",
              "      <th>155361</th>\n",
              "      <td>평범한 직장인이 어떻게 1년 만에 2권의 책을 썼을까</td>\n",
              "      <td>저자는 작가가 되겠다는 마음을 먹은 지 7개월 만에 마침내 작가가 되었다. 이 책은...</td>\n",
              "      <td>12</td>\n",
              "    </tr>\n",
              "    <tr>\n",
              "      <th>155594</th>\n",
              "      <td>남자의 품격 - 중세의 기사는 어떻게 남자로 만들어졌는가</td>\n",
              "      <td>남성다움의 전형으로 일컬어지는 중세의 기사는 어떻게 만들어졌을까? 저자는 플랑드르 ...</td>\n",
              "      <td>12</td>\n",
              "    </tr>\n",
              "    <tr>\n",
              "      <th>155636</th>\n",
              "      <td>화학공학기술자 어떻게 되었을까? - 현직 화학공학기술자들을 통해 알아보는 리얼 직업...</td>\n",
              "      <td>엄마 아빠도 모르고 선생님도 몰랐던 화학공학기술자 6인이 말하는 직업인의 이야기를 ...</td>\n",
              "      <td>12</td>\n",
              "    </tr>\n",
              "    <tr>\n",
              "      <th>156850</th>\n",
              "      <td>가족이야기는 어떻게 만들어지는가</td>\n",
              "      <td>가족 이데올로기는 우리 사회를 지배하는 대표적인 담론 중 하나이다. 사회 구성의 기...</td>\n",
              "      <td>12</td>\n",
              "    </tr>\n",
              "    <tr>\n",
              "      <th>157117</th>\n",
              "      <td>더 빅 윈 (이룰 것인가, 남길 것인가)</td>\n",
              "      <td>none</td>\n",
              "      <td>12</td>\n",
              "    </tr>\n",
              "  </tbody>\n",
              "</table>\n",
              "<p>333 rows × 3 columns</p>\n",
              "</div>\n",
              "      <button class=\"colab-df-convert\" onclick=\"convertToInteractive('df-10fcc9ab-ee9f-485b-b5c8-4480b128164a')\"\n",
              "              title=\"Convert this dataframe to an interactive table.\"\n",
              "              style=\"display:none;\">\n",
              "        \n",
              "  <svg xmlns=\"http://www.w3.org/2000/svg\" height=\"24px\"viewBox=\"0 0 24 24\"\n",
              "       width=\"24px\">\n",
              "    <path d=\"M0 0h24v24H0V0z\" fill=\"none\"/>\n",
              "    <path d=\"M18.56 5.44l.94 2.06.94-2.06 2.06-.94-2.06-.94-.94-2.06-.94 2.06-2.06.94zm-11 1L8.5 8.5l.94-2.06 2.06-.94-2.06-.94L8.5 2.5l-.94 2.06-2.06.94zm10 10l.94 2.06.94-2.06 2.06-.94-2.06-.94-.94-2.06-.94 2.06-2.06.94z\"/><path d=\"M17.41 7.96l-1.37-1.37c-.4-.4-.92-.59-1.43-.59-.52 0-1.04.2-1.43.59L10.3 9.45l-7.72 7.72c-.78.78-.78 2.05 0 2.83L4 21.41c.39.39.9.59 1.41.59.51 0 1.02-.2 1.41-.59l7.78-7.78 2.81-2.81c.8-.78.8-2.07 0-2.86zM5.41 20L4 18.59l7.72-7.72 1.47 1.35L5.41 20z\"/>\n",
              "  </svg>\n",
              "      </button>\n",
              "      \n",
              "  <style>\n",
              "    .colab-df-container {\n",
              "      display:flex;\n",
              "      flex-wrap:wrap;\n",
              "      gap: 12px;\n",
              "    }\n",
              "\n",
              "    .colab-df-convert {\n",
              "      background-color: #E8F0FE;\n",
              "      border: none;\n",
              "      border-radius: 50%;\n",
              "      cursor: pointer;\n",
              "      display: none;\n",
              "      fill: #1967D2;\n",
              "      height: 32px;\n",
              "      padding: 0 0 0 0;\n",
              "      width: 32px;\n",
              "    }\n",
              "\n",
              "    .colab-df-convert:hover {\n",
              "      background-color: #E2EBFA;\n",
              "      box-shadow: 0px 1px 2px rgba(60, 64, 67, 0.3), 0px 1px 3px 1px rgba(60, 64, 67, 0.15);\n",
              "      fill: #174EA6;\n",
              "    }\n",
              "\n",
              "    [theme=dark] .colab-df-convert {\n",
              "      background-color: #3B4455;\n",
              "      fill: #D2E3FC;\n",
              "    }\n",
              "\n",
              "    [theme=dark] .colab-df-convert:hover {\n",
              "      background-color: #434B5C;\n",
              "      box-shadow: 0px 1px 3px 1px rgba(0, 0, 0, 0.15);\n",
              "      filter: drop-shadow(0px 1px 2px rgba(0, 0, 0, 0.3));\n",
              "      fill: #FFFFFF;\n",
              "    }\n",
              "  </style>\n",
              "\n",
              "      <script>\n",
              "        const buttonEl =\n",
              "          document.querySelector('#df-10fcc9ab-ee9f-485b-b5c8-4480b128164a button.colab-df-convert');\n",
              "        buttonEl.style.display =\n",
              "          google.colab.kernel.accessAllowed ? 'block' : 'none';\n",
              "\n",
              "        async function convertToInteractive(key) {\n",
              "          const element = document.querySelector('#df-10fcc9ab-ee9f-485b-b5c8-4480b128164a');\n",
              "          const dataTable =\n",
              "            await google.colab.kernel.invokeFunction('convertToInteractive',\n",
              "                                                     [key], {});\n",
              "          if (!dataTable) return;\n",
              "\n",
              "          const docLinkHtml = 'Like what you see? Visit the ' +\n",
              "            '<a target=\"_blank\" href=https://colab.research.google.com/notebooks/data_table.ipynb>data table notebook</a>'\n",
              "            + ' to learn more about interactive tables.';\n",
              "          element.innerHTML = '';\n",
              "          dataTable['output_type'] = 'display_data';\n",
              "          await google.colab.output.renderOutput(dataTable, element);\n",
              "          const docLink = document.createElement('div');\n",
              "          docLink.innerHTML = docLinkHtml;\n",
              "          element.appendChild(docLink);\n",
              "        }\n",
              "      </script>\n",
              "    </div>\n",
              "  </div>\n",
              "  "
            ]
          },
          "metadata": {},
          "execution_count": 28
        }
      ]
    },
    {
      "cell_type": "code",
      "source": [
        "import random\n",
        "\n",
        "# user X의 book list (예시)\n",
        "X=['에세이 손자병법','(한권으로 끝내는)관광중국어','이상한 꿈','고대 이집트 사람들은 어떻게 살았을까?'] # 사용자가 갖고 있는 책 리스트 데이터\n",
        "\n",
        "\n",
        "# 사용자의 책 리스트를 input으로 받아 그 리스트 중 하나를 반환하는 함수\n",
        "def userbooks(A):\n",
        "    l=len(A)\n",
        "    n=random.randrange(0,l)\n",
        "    return A[n]"
      ],
      "metadata": {
        "id": "eSBZ0B_E9ykH"
      },
      "execution_count": null,
      "outputs": []
    },
    {
      "cell_type": "code",
      "source": [
        "B=userbooks(X)\n",
        "print(B)"
      ],
      "metadata": {
        "colab": {
          "base_uri": "https://localhost:8080/"
        },
        "id": "F5jtvbrBJ3_Q",
        "outputId": "9a821051-1585-428c-fc3d-af8110f49850"
      },
      "execution_count": null,
      "outputs": [
        {
          "output_type": "stream",
          "name": "stdout",
          "text": [
            "이상한 꿈\n"
          ]
        }
      ]
    },
    {
      "cell_type": "code",
      "source": [
        "n=books_df_nax.index[books_df_nax['title']=='에세이 손자병법'].tolist()\n",
        "n"
      ],
      "metadata": {
        "colab": {
          "base_uri": "https://localhost:8080/"
        },
        "id": "CmaRKCMwfWXr",
        "outputId": "2fe472ea-1f88-401c-b673-4d20d9a9b572"
      },
      "execution_count": null,
      "outputs": [
        {
          "output_type": "execute_result",
          "data": {
            "text/plain": [
              "[152681]"
            ]
          },
          "metadata": {},
          "execution_count": 8
        }
      ]
    },
    {
      "cell_type": "code",
      "source": [
        "n[0]"
      ],
      "metadata": {
        "colab": {
          "base_uri": "https://localhost:8080/"
        },
        "id": "e6YrVdIatbSV",
        "outputId": "48ef8306-bfdb-4655-cacc-e4706464607b"
      },
      "execution_count": null,
      "outputs": [
        {
          "output_type": "execute_result",
          "data": {
            "text/plain": [
              "152681"
            ]
          },
          "metadata": {},
          "execution_count": 10
        }
      ]
    },
    {
      "cell_type": "code",
      "source": [],
      "metadata": {
        "id": "lBcWDj5EhDFu"
      },
      "execution_count": null,
      "outputs": []
    },
    {
      "cell_type": "code",
      "source": [
        "pip install sentence_transformers"
      ],
      "metadata": {
        "id": "ntmkiww2hDId"
      },
      "execution_count": null,
      "outputs": []
    },
    {
      "cell_type": "code",
      "source": [
        "#Write some lines to encode (sentences 0 and 2 are both ideltical):\n",
        "#sen = books_df_nax['description']\n",
        "#from sentence_transformers import SentenceTransformer\n",
        "#model = SentenceTransformer('sentence-transformers/all-MiniLM-L6-v2')\n",
        "##Encoding:\n",
        "#sen_embeddings = model.encode(sen)\n",
        "#sen_embeddings.shape"
      ],
      "metadata": {
        "id": "bBqyGwzShDLC"
      },
      "execution_count": null,
      "outputs": []
    },
    {
      "cell_type": "code",
      "source": [],
      "metadata": {
        "id": "EFbUVKUPhDNr"
      },
      "execution_count": null,
      "outputs": []
    },
    {
      "cell_type": "code",
      "source": [
        "def sim_idx_with_A(df,books):\n",
        "    n=int(df[df['title']==books]['tit_cluster'])\n",
        "    same_clu_books_df=df[df['tit_cluster']==n]\n",
        "    sen = same_clu_books_df['description']\n",
        "\n",
        "    # 1번 후보 : sentence transformer 유사도 구하기\n",
        "    #from sentence_transformers import SentenceTransformer\n",
        "    #model = SentenceTransformer('sentence-transformers/all-MiniLM-L6-v2')\n",
        "    #sen_embeddings = model.encode(sen)\n",
        "    \n",
        "    # 2번 후보 : 단순 tfidf 활용한 유사도 구하기\n",
        "    clu_tfidf = tfidf.fit_transform(sen)\n",
        "    clu_des_sim=cosine_similarity(clu_tfidf,clu_tfidf)\n",
        "\n",
        "    idx_list=df.index[df['title']==books].tolist()\n",
        "    idx=idx_list[0]\n",
        "    books_sim_vect=clu_des_sim[idx:idx+1]\n",
        "    books_des_sim_idx = books_sim_vect.argsort()[::-1]\n",
        "\n",
        "    return books_des_sim_idx\n",
        "\n",
        "# 사용자 책 리스트에서 랜덤 추출한 책 기준 유사한 책 인덱스 리스트 반환\n",
        "sim_books_idx=sim_idx_with_A(books_df_nax,B)"
      ],
      "metadata": {
        "id": "pPB489uL9yqT"
      },
      "execution_count": null,
      "outputs": []
    },
    {
      "cell_type": "code",
      "source": [
        "def find_sim_books(df,books,top_n):\n",
        "    #books=userbooks(A)\n",
        "    #n=int(df[df['title']==books]['tit_cluster'])\n",
        "    #same_clu_books_df=df[df['tit_cluster']==n]\n",
        "    #sen = same_clu_books_df['description']\n",
        "    sim_books_idx=sim_idx_with_A(df,books)\n",
        "    top_sim_idx=sim_books_idx[:top_n]\n",
        "    top_sim_idx=top_sim_idx.reshape(-1,)\n",
        "    sim_books=df.iloc[top_sim_idx]\n",
        "\n",
        "    return sim_books"
      ],
      "metadata": {
        "id": "7ioOLOyEvDa8"
      },
      "execution_count": null,
      "outputs": []
    },
    {
      "cell_type": "code",
      "source": [
        "des_sim_books=find_sim_books(books_df_nax,B,5) # B 책과 des 비슷한 상위 5개 책 데이터프레임"
      ],
      "metadata": {
        "id": "brO-v5feHAT9"
      },
      "execution_count": null,
      "outputs": []
    },
    {
      "cell_type": "code",
      "source": [],
      "metadata": {
        "id": "yYCJSW5wHAWG"
      },
      "execution_count": null,
      "outputs": []
    },
    {
      "cell_type": "code",
      "source": [],
      "metadata": {
        "id": "TGCK3YhuN69X"
      },
      "execution_count": null,
      "outputs": []
    },
    {
      "cell_type": "code",
      "source": [],
      "metadata": {
        "id": "BDgP6LkON6_0"
      },
      "execution_count": null,
      "outputs": []
    },
    {
      "cell_type": "code",
      "source": [],
      "metadata": {
        "id": "hB210p9AN7CW"
      },
      "execution_count": null,
      "outputs": []
    },
    {
      "cell_type": "code",
      "source": [],
      "metadata": {
        "id": "i0FkjDm0N7E8"
      },
      "execution_count": null,
      "outputs": []
    },
    {
      "cell_type": "code",
      "source": [],
      "metadata": {
        "id": "9J3mvUdXN7H1"
      },
      "execution_count": null,
      "outputs": []
    },
    {
      "cell_type": "code",
      "source": [],
      "metadata": {
        "id": "CgVeJvxXOAVg"
      },
      "execution_count": null,
      "outputs": []
    }
  ]
}